{
  "cells": [
    {
      "cell_type": "markdown",
      "metadata": {
        "id": "PZbq5P2oH8jl"
      },
      "source": [
        "# Developing an AI application\n",
        "\n",
        "Going forward, AI algorithms will be incorporated into more and more everyday applications. For example, you might want to include an image classifier in a smart phone app. To do this, you'd use a deep learning model trained on hundreds of thousands of images as part of the overall application architecture. A large part of software development in the future will be using these types of models as common parts of applications.\n",
        "\n",
        "In this project, you'll train an image classifier to recognize different species of flowers. You can imagine using something like this in a phone app that tells you the name of the flower your camera is looking at. In practice you'd train this classifier, then export it for use in your application. We'll be using [this dataset](http://www.robots.ox.ac.uk/~vgg/data/flowers/102/index.html) of 102 flower categories, you can see a few examples below.\n",
        "\n",
        "<img src='https://github.com/amnyulwa/aipnd-project/blob/master/assets/Flowers.png?raw=1' width=500px>\n",
        "\n",
        "The project is broken down into multiple steps:\n",
        "\n",
        "* Load and preprocess the image dataset\n",
        "* Train the image classifier on your dataset\n",
        "* Use the trained classifier to predict image content\n",
        "\n",
        "We'll lead you through each part which you'll implement in Python.\n",
        "\n",
        "When you've completed this project, you'll have an application that can be trained on any set of labeled images. Here your network will be learning about flowers and end up as a command line application. But, what you do with your new skills depends on your imagination and effort in building a dataset. For example, imagine an app where you take a picture of a car, it tells you what the make and model is, then looks up information about it. Go build your own dataset and make something new.\n",
        "\n",
        "First up is importing the packages you'll need. It's good practice to keep all the imports at the beginning of your code. As you work through this notebook and find you need to import a package, make sure to add the import up here."
      ]
    },
    {
      "cell_type": "code",
      "execution_count": 3,
      "metadata": {
        "id": "A4Njxn8fH8jm"
      },
      "outputs": [],
      "source": [
        "# Imports here\n",
        "\n",
        "import torch\n",
        "from torch import nn\n",
        "from torch import optim\n",
        "import torch.nn.functional as F\n",
        "\n",
        "from torchvision import datasets, transforms, models"
      ]
    },
    {
      "cell_type": "markdown",
      "metadata": {
        "id": "p8oErs1cH8jm"
      },
      "source": [
        "## Load the data\n",
        "\n",
        "Here you'll use `torchvision` to load the data ([documentation](http://pytorch.org/docs/0.3.0/torchvision/index.html)). The data should be included alongside this notebook, otherwise you can [download it here](https://s3.amazonaws.com/content.udacity-data.com/nd089/flower_data.tar.gz). The dataset is split into three parts, training, validation, and testing. For the training, you'll want to apply transformations such as random scaling, cropping, and flipping. This will help the network generalize leading to better performance. You'll also need to make sure the input data is resized to 224x224 pixels as required by the pre-trained networks.\n",
        "\n",
        "The validation and testing sets are used to measure the model's performance on data it hasn't seen yet. For this you don't want any scaling or rotation transformations, but you'll need to resize then crop the images to the appropriate size.\n",
        "\n",
        "The pre-trained networks you'll use were trained on the ImageNet dataset where each color channel was normalized separately. For all three sets you'll need to normalize the means and standard deviations of the images to what the network expects. For the means, it's `[0.485, 0.456, 0.406]` and for the standard deviations `[0.229, 0.224, 0.225]`, calculated from the ImageNet images.  These values will shift each color channel to be centered at 0 and range from -1 to 1.\n"
      ]
    },
    {
      "cell_type": "code",
      "execution_count": 4,
      "metadata": {
        "id": "e47SRNEaH8jm"
      },
      "outputs": [],
      "source": [
        "data_dir = 'flower_data'\n",
        "train_dir = data_dir + '/train'\n",
        "valid_dir = data_dir + '/valid'\n",
        "test_dir = data_dir + '/test'"
      ]
    },
    {
      "cell_type": "code",
      "execution_count": 5,
      "metadata": {
        "colab": {
          "base_uri": "https://localhost:8080/",
          "height": 356
        },
        "id": "DzXpKiSWH8jm",
        "outputId": "6dc0031a-7d4d-49ef-f8c8-894e511d927d"
      },
      "outputs": [
        {
          "name": "stdout",
          "output_type": "stream",
          "text": [
            "6552\n",
            "103\n"
          ]
        }
      ],
      "source": [
        "# TODO: Define your transforms for the training, validation, and testing sets\n",
        "train_transforms = transforms.Compose([transforms.Resize((224,224)),\n",
        "                                     transforms.CenterCrop(220),\n",
        "                                     transforms.RandomVerticalFlip(),\n",
        "                                     transforms.RandomHorizontalFlip(),\n",
        "                                      transforms.ToTensor(),\n",
        "                                     transforms.Normalize([0.485, 0.456, 0.406], [0.229, 0.224, 0.225])])\n",
        "\n",
        "validation_transforms = transforms.Compose([transforms.Resize((224, 224)),\n",
        "                                      transforms.CenterCrop(220),\n",
        "                                      transforms.ToTensor(),\n",
        "                                      transforms.Normalize([0.485, 0.456, 0.406], [0.229, 0.224, 0.225])])\n",
        "\n",
        "testing_transforms = transforms.Compose([transforms.Resize((224, 224)),\n",
        "                                      transforms.CenterCrop(220),\n",
        "                                      transforms.ToTensor(),\n",
        "                                      transforms.Normalize([0.485, 0.456, 0.406], [0.229, 0.224, 0.225])])\n",
        "\n",
        "\n",
        "\n",
        "# TODO: Load the datasets with ImageFolder\n",
        "train_datasets = datasets.ImageFolder(train_dir, transform=train_transforms)\n",
        "validation_datasets = datasets.ImageFolder(valid_dir, transform=validation_transforms)\n",
        "testing_datasets = datasets.ImageFolder(test_dir, transform=testing_transforms)\n",
        "\n",
        "# TODO: Using the image datasets and the trainforms, define the dataloaders\n",
        "# remember the batch size is the number of images we get in one iteration from the data loader and pass through our network, often called a batch. And shuffle=True tells it to shuffle the dataset every time we start going through the data loader again\n",
        "trainloader = torch.utils.data.DataLoader(train_datasets, batch_size=64, shuffle=True)\n",
        "validationloader = torch.utils.data.DataLoader(validation_datasets, batch_size=64)\n",
        "testloader = torch.utils.data.DataLoader(testing_datasets, batch_size=64)\n",
        "\n",
        "print(len(trainloader.dataset))\n",
        "print(len(trainloader))"
      ]
    },
    {
      "cell_type": "markdown",
      "metadata": {
        "id": "vgXFvqcQH8jm"
      },
      "source": [
        "### Label mapping\n",
        "\n",
        "You'll also need to load in a mapping from category label to category name. You can find this in the file `cat_to_name.json`. It's a JSON object which you can read in with the [`json` module](https://docs.python.org/2/library/json.html). This will give you a dictionary mapping the integer encoded categories to the actual names of the flowers."
      ]
    },
    {
      "cell_type": "code",
      "execution_count": 6,
      "metadata": {
        "id": "nPEj4io_H8jm"
      },
      "outputs": [
        {
          "name": "stdout",
          "output_type": "stream",
          "text": [
            "102\n"
          ]
        }
      ],
      "source": [
        "import json\n",
        "\n",
        "with open('cat_to_name.json', 'r') as f:\n",
        "    cat_to_name = json.load(f)\n",
        "\n",
        "print(len(cat_to_name))"
      ]
    },
    {
      "cell_type": "markdown",
      "metadata": {
        "id": "MdF70HuSH8jm"
      },
      "source": [
        "# Building and training the classifier\n",
        "\n",
        "Now that the data is ready, it's time to build and train the classifier. As usual, you should use one of the pretrained models from `torchvision.models` to get the image features. Build and train a new feed-forward classifier using those features.\n",
        "\n",
        "We're going to leave this part up to you. Refer to [the rubric](https://review.udacity.com/#!/rubrics/1663/view) for guidance on successfully completing this section. Things you'll need to do:\n",
        "\n",
        "* Load a [pre-trained network](http://pytorch.org/docs/master/torchvision/models.html) (If you need a starting point, the VGG networks work great and are straightforward to use)\n",
        "* Define a new, untrained feed-forward network as a classifier, using ReLU activations and dropout\n",
        "* Train the classifier layers using backpropagation using the pre-trained network to get the features\n",
        "* Track the loss and accuracy on the validation set to determine the best hyperparameters\n",
        "\n",
        "We've left a cell open for you below, but use as many as you need. Our advice is to break the problem up into smaller parts you can run separately. Check that each part is doing what you expect, then move on to the next. You'll likely find that as you work through each part, you'll need to go back and modify your previous code. This is totally normal!\n",
        "\n",
        "When training make sure you're updating only the weights of the feed-forward network. You should be able to get the validation accuracy above 70% if you build everything right. Make sure to try different hyperparameters (learning rate, units in the classifier, epochs, etc) to find the best model. Save those hyperparameters to use as default values in the next part of the project.\n",
        "\n",
        "One last important tip if you're using the workspace to run your code: To avoid having your workspace disconnect during the long-running tasks in this notebook, please read in the earlier page in this lesson called Intro to\n",
        "GPU Workspaces about Keeping Your Session Active. You'll want to include code from the workspace_utils.py module.\n",
        "\n",
        "**Note for Workspace users:** If your network is over 1 GB when saved as a checkpoint, there might be issues with saving backups in your workspace. Typically this happens with wide dense layers after the convolutional layers. If your saved checkpoint is larger than 1 GB (you can open a terminal and check with `ls -lh`), you should reduce the size of your hidden layers and train again."
      ]
    },
    {
      "cell_type": "code",
      "execution_count": 7,
      "metadata": {
        "id": "QfgTs1BbH8jm"
      },
      "outputs": [
        {
          "name": "stderr",
          "output_type": "stream",
          "text": [
            "/home/test/anaconda3/lib/python3.12/site-packages/torchvision/models/_utils.py:208: UserWarning: The parameter 'pretrained' is deprecated since 0.13 and may be removed in the future, please use 'weights' instead.\n",
            "  warnings.warn(\n",
            "/home/test/anaconda3/lib/python3.12/site-packages/torchvision/models/_utils.py:223: UserWarning: Arguments other than a weight enum or `None` for 'weights' are deprecated since 0.13 and may be removed in the future. The current behavior is equivalent to passing `weights=VGG16_Weights.IMAGENET1K_V1`. You can also use `weights=VGG16_Weights.DEFAULT` to get the most up-to-date weights.\n",
            "  warnings.warn(msg)\n"
          ]
        },
        {
          "data": {
            "text/plain": [
              "VGG(\n",
              "  (features): Sequential(\n",
              "    (0): Conv2d(3, 64, kernel_size=(3, 3), stride=(1, 1), padding=(1, 1))\n",
              "    (1): ReLU(inplace=True)\n",
              "    (2): Conv2d(64, 64, kernel_size=(3, 3), stride=(1, 1), padding=(1, 1))\n",
              "    (3): ReLU(inplace=True)\n",
              "    (4): MaxPool2d(kernel_size=2, stride=2, padding=0, dilation=1, ceil_mode=False)\n",
              "    (5): Conv2d(64, 128, kernel_size=(3, 3), stride=(1, 1), padding=(1, 1))\n",
              "    (6): ReLU(inplace=True)\n",
              "    (7): Conv2d(128, 128, kernel_size=(3, 3), stride=(1, 1), padding=(1, 1))\n",
              "    (8): ReLU(inplace=True)\n",
              "    (9): MaxPool2d(kernel_size=2, stride=2, padding=0, dilation=1, ceil_mode=False)\n",
              "    (10): Conv2d(128, 256, kernel_size=(3, 3), stride=(1, 1), padding=(1, 1))\n",
              "    (11): ReLU(inplace=True)\n",
              "    (12): Conv2d(256, 256, kernel_size=(3, 3), stride=(1, 1), padding=(1, 1))\n",
              "    (13): ReLU(inplace=True)\n",
              "    (14): Conv2d(256, 256, kernel_size=(3, 3), stride=(1, 1), padding=(1, 1))\n",
              "    (15): ReLU(inplace=True)\n",
              "    (16): MaxPool2d(kernel_size=2, stride=2, padding=0, dilation=1, ceil_mode=False)\n",
              "    (17): Conv2d(256, 512, kernel_size=(3, 3), stride=(1, 1), padding=(1, 1))\n",
              "    (18): ReLU(inplace=True)\n",
              "    (19): Conv2d(512, 512, kernel_size=(3, 3), stride=(1, 1), padding=(1, 1))\n",
              "    (20): ReLU(inplace=True)\n",
              "    (21): Conv2d(512, 512, kernel_size=(3, 3), stride=(1, 1), padding=(1, 1))\n",
              "    (22): ReLU(inplace=True)\n",
              "    (23): MaxPool2d(kernel_size=2, stride=2, padding=0, dilation=1, ceil_mode=False)\n",
              "    (24): Conv2d(512, 512, kernel_size=(3, 3), stride=(1, 1), padding=(1, 1))\n",
              "    (25): ReLU(inplace=True)\n",
              "    (26): Conv2d(512, 512, kernel_size=(3, 3), stride=(1, 1), padding=(1, 1))\n",
              "    (27): ReLU(inplace=True)\n",
              "    (28): Conv2d(512, 512, kernel_size=(3, 3), stride=(1, 1), padding=(1, 1))\n",
              "    (29): ReLU(inplace=True)\n",
              "    (30): MaxPool2d(kernel_size=2, stride=2, padding=0, dilation=1, ceil_mode=False)\n",
              "  )\n",
              "  (avgpool): AdaptiveAvgPool2d(output_size=(7, 7))\n",
              "  (classifier): Sequential(\n",
              "    (0): Linear(in_features=25088, out_features=4096, bias=True)\n",
              "    (1): ReLU(inplace=True)\n",
              "    (2): Dropout(p=0.5, inplace=False)\n",
              "    (3): Linear(in_features=4096, out_features=4096, bias=True)\n",
              "    (4): ReLU(inplace=True)\n",
              "    (5): Dropout(p=0.5, inplace=False)\n",
              "    (6): Linear(in_features=4096, out_features=1000, bias=True)\n",
              "  )\n",
              ")"
            ]
          },
          "execution_count": 7,
          "metadata": {},
          "output_type": "execute_result"
        }
      ],
      "source": [
        "# TODO: Build and train your network\n",
        "model = models.vgg16(pretrained=True)\n",
        "model"
      ]
    },
    {
      "cell_type": "code",
      "execution_count": 8,
      "metadata": {},
      "outputs": [
        {
          "data": {
            "text/plain": [
              "VGG(\n",
              "  (features): Sequential(\n",
              "    (0): Conv2d(3, 64, kernel_size=(3, 3), stride=(1, 1), padding=(1, 1))\n",
              "    (1): ReLU(inplace=True)\n",
              "    (2): Conv2d(64, 64, kernel_size=(3, 3), stride=(1, 1), padding=(1, 1))\n",
              "    (3): ReLU(inplace=True)\n",
              "    (4): MaxPool2d(kernel_size=2, stride=2, padding=0, dilation=1, ceil_mode=False)\n",
              "    (5): Conv2d(64, 128, kernel_size=(3, 3), stride=(1, 1), padding=(1, 1))\n",
              "    (6): ReLU(inplace=True)\n",
              "    (7): Conv2d(128, 128, kernel_size=(3, 3), stride=(1, 1), padding=(1, 1))\n",
              "    (8): ReLU(inplace=True)\n",
              "    (9): MaxPool2d(kernel_size=2, stride=2, padding=0, dilation=1, ceil_mode=False)\n",
              "    (10): Conv2d(128, 256, kernel_size=(3, 3), stride=(1, 1), padding=(1, 1))\n",
              "    (11): ReLU(inplace=True)\n",
              "    (12): Conv2d(256, 256, kernel_size=(3, 3), stride=(1, 1), padding=(1, 1))\n",
              "    (13): ReLU(inplace=True)\n",
              "    (14): Conv2d(256, 256, kernel_size=(3, 3), stride=(1, 1), padding=(1, 1))\n",
              "    (15): ReLU(inplace=True)\n",
              "    (16): MaxPool2d(kernel_size=2, stride=2, padding=0, dilation=1, ceil_mode=False)\n",
              "    (17): Conv2d(256, 512, kernel_size=(3, 3), stride=(1, 1), padding=(1, 1))\n",
              "    (18): ReLU(inplace=True)\n",
              "    (19): Conv2d(512, 512, kernel_size=(3, 3), stride=(1, 1), padding=(1, 1))\n",
              "    (20): ReLU(inplace=True)\n",
              "    (21): Conv2d(512, 512, kernel_size=(3, 3), stride=(1, 1), padding=(1, 1))\n",
              "    (22): ReLU(inplace=True)\n",
              "    (23): MaxPool2d(kernel_size=2, stride=2, padding=0, dilation=1, ceil_mode=False)\n",
              "    (24): Conv2d(512, 512, kernel_size=(3, 3), stride=(1, 1), padding=(1, 1))\n",
              "    (25): ReLU(inplace=True)\n",
              "    (26): Conv2d(512, 512, kernel_size=(3, 3), stride=(1, 1), padding=(1, 1))\n",
              "    (27): ReLU(inplace=True)\n",
              "    (28): Conv2d(512, 512, kernel_size=(3, 3), stride=(1, 1), padding=(1, 1))\n",
              "    (29): ReLU(inplace=True)\n",
              "    (30): MaxPool2d(kernel_size=2, stride=2, padding=0, dilation=1, ceil_mode=False)\n",
              "  )\n",
              "  (avgpool): AdaptiveAvgPool2d(output_size=(7, 7))\n",
              "  (classifier): Classifier(\n",
              "    (fc1): Linear(in_features=25088, out_features=500, bias=True)\n",
              "    (fc2): Linear(in_features=500, out_features=256, bias=True)\n",
              "    (fc3): Linear(in_features=256, out_features=102, bias=True)\n",
              "    (dropout): Dropout(p=0.2, inplace=False)\n",
              "  )\n",
              ")"
            ]
          },
          "execution_count": 8,
          "metadata": {},
          "output_type": "execute_result"
        }
      ],
      "source": [
        "for param in model.parameters():\n",
        "    param.requires_grad = False\n",
        "\n",
        "class Classifier(nn.Module):\n",
        "    def __init__(self):\n",
        "        super().__init__()\n",
        "\n",
        "        # part-2 Neural Networks,  fully-connected or dense networks. Each unit in one layer is connected to each unit in the next layer. In fully-connected networks, the input to each layer must be a one-dimensional vector (which can be stacked into a 2D tensor as a batch of multiple examples)\n",
        "        self.fc1 = nn.Linear(25088, 500)\n",
        "        self.fc2 = nn.Linear(500, 256 )\n",
        "        self.fc3 = nn.Linear(256, 102)\n",
        "        self.dropout = nn.Dropout(0.2)\n",
        "\n",
        "    def forward(self, x):\n",
        "        #print('Shape before {x.shape}')\n",
        "        x = x.view(x.shape[0], -1)\n",
        "        \n",
        "        x = self.dropout(F.relu(self.fc1(x)))\n",
        "        x = self.dropout(F.relu(self.fc2(x)))\n",
        "           \n",
        "        x = F.log_softmax(self.fc3(x), dim=1) \n",
        "\n",
        "        return x\n",
        "\n",
        "model.classifier = Classifier()\n",
        "\n",
        "\n",
        "\"\"\"classifier = nn.Sequential(nn.Linear(25088, 4096),\n",
        "                           nn.ReLU(),\n",
        "                           nn.Linear(4096, 1000),\n",
        "                           nn.ReLU(),\n",
        "                           nn.Linear(1000, 102),\n",
        "                           nn.LogSoftmax(dim=1))\n",
        "\n",
        "model.classifier = classifier\n",
        "\"\"\"\n",
        "\n",
        "model"
      ]
    },
    {
      "cell_type": "code",
      "execution_count": 9,
      "metadata": {},
      "outputs": [
        {
          "name": "stdout",
          "output_type": "stream",
          "text": [
            "_CudaDeviceProperties(name='NVIDIA GeForce RTX 2060', major=7, minor=5, total_memory=5926MB, multi_processor_count=30, uuid=e6a811ea-de47-c59d-f521-3a66c88910e1, L2_cache_size=3MB)\n"
          ]
        },
        {
          "data": {
            "text/plain": [
              "VGG(\n",
              "  (features): Sequential(\n",
              "    (0): Conv2d(3, 64, kernel_size=(3, 3), stride=(1, 1), padding=(1, 1))\n",
              "    (1): ReLU(inplace=True)\n",
              "    (2): Conv2d(64, 64, kernel_size=(3, 3), stride=(1, 1), padding=(1, 1))\n",
              "    (3): ReLU(inplace=True)\n",
              "    (4): MaxPool2d(kernel_size=2, stride=2, padding=0, dilation=1, ceil_mode=False)\n",
              "    (5): Conv2d(64, 128, kernel_size=(3, 3), stride=(1, 1), padding=(1, 1))\n",
              "    (6): ReLU(inplace=True)\n",
              "    (7): Conv2d(128, 128, kernel_size=(3, 3), stride=(1, 1), padding=(1, 1))\n",
              "    (8): ReLU(inplace=True)\n",
              "    (9): MaxPool2d(kernel_size=2, stride=2, padding=0, dilation=1, ceil_mode=False)\n",
              "    (10): Conv2d(128, 256, kernel_size=(3, 3), stride=(1, 1), padding=(1, 1))\n",
              "    (11): ReLU(inplace=True)\n",
              "    (12): Conv2d(256, 256, kernel_size=(3, 3), stride=(1, 1), padding=(1, 1))\n",
              "    (13): ReLU(inplace=True)\n",
              "    (14): Conv2d(256, 256, kernel_size=(3, 3), stride=(1, 1), padding=(1, 1))\n",
              "    (15): ReLU(inplace=True)\n",
              "    (16): MaxPool2d(kernel_size=2, stride=2, padding=0, dilation=1, ceil_mode=False)\n",
              "    (17): Conv2d(256, 512, kernel_size=(3, 3), stride=(1, 1), padding=(1, 1))\n",
              "    (18): ReLU(inplace=True)\n",
              "    (19): Conv2d(512, 512, kernel_size=(3, 3), stride=(1, 1), padding=(1, 1))\n",
              "    (20): ReLU(inplace=True)\n",
              "    (21): Conv2d(512, 512, kernel_size=(3, 3), stride=(1, 1), padding=(1, 1))\n",
              "    (22): ReLU(inplace=True)\n",
              "    (23): MaxPool2d(kernel_size=2, stride=2, padding=0, dilation=1, ceil_mode=False)\n",
              "    (24): Conv2d(512, 512, kernel_size=(3, 3), stride=(1, 1), padding=(1, 1))\n",
              "    (25): ReLU(inplace=True)\n",
              "    (26): Conv2d(512, 512, kernel_size=(3, 3), stride=(1, 1), padding=(1, 1))\n",
              "    (27): ReLU(inplace=True)\n",
              "    (28): Conv2d(512, 512, kernel_size=(3, 3), stride=(1, 1), padding=(1, 1))\n",
              "    (29): ReLU(inplace=True)\n",
              "    (30): MaxPool2d(kernel_size=2, stride=2, padding=0, dilation=1, ceil_mode=False)\n",
              "  )\n",
              "  (avgpool): AdaptiveAvgPool2d(output_size=(7, 7))\n",
              "  (classifier): Classifier(\n",
              "    (fc1): Linear(in_features=25088, out_features=500, bias=True)\n",
              "    (fc2): Linear(in_features=500, out_features=256, bias=True)\n",
              "    (fc3): Linear(in_features=256, out_features=102, bias=True)\n",
              "    (dropout): Dropout(p=0.2, inplace=False)\n",
              "  )\n",
              ")"
            ]
          },
          "execution_count": 9,
          "metadata": {},
          "output_type": "execute_result"
        }
      ],
      "source": [
        "# Network train cho cho \n",
        "\n",
        "criterion = nn.NLLLoss()\n",
        "\n",
        "optimizer = optim.Adam(model.classifier.parameters(), lr=0.002)\n",
        "\n",
        "#device = torch.device(\"cudo:0\" if torch.cuda.is_available() else \"mps\" if torch.mps.device_count() > 0 else \"cpu\" if torch.cpu.is_available())\n",
        "device = torch.device(\"cuda:0\")\n",
        "print(torch.cuda.get_device_properties(device=\"cuda:0\"))\n",
        "model.to(device)"
      ]
    },
    {
      "cell_type": "code",
      "execution_count": null,
      "metadata": {},
      "outputs": [
        {
          "name": "stdout",
          "output_type": "stream",
          "text": [
            "Epoch 1/3.. Training loss: 0.037.. Validation loss: 1.174.. Validation accuracy: 0.682\n",
            "Epoch 2/3.. Training loss: 0.017.. Validation loss: 0.889.. Validation accuracy: 0.781\n"
          ]
        }
      ],
      "source": [
        "\n",
        "\n",
        "epochs = 3\n",
        "steps = 0 \n",
        "\n",
        "train_Ls, valid_Ls = [], []\n",
        "\n",
        "for epoch in range(epochs):\n",
        "    training_loss = 0    \n",
        "    for input, labels in trainloader:\n",
        "        steps +=1\n",
        "        \n",
        "        input, labels = input.to(device), labels.to(device)\n",
        "\n",
        "        logps = model.forward(input)\n",
        "        loss = criterion(logps, labels)\n",
        "\n",
        "        optimizer.zero_grad()\n",
        "        loss.backward()\n",
        "        optimizer.step()\n",
        "        \n",
        "        training_loss += loss.item()\n",
        "\n",
        "    else:\n",
        "        validation_loss = 0\n",
        "        accuracy = 0\n",
        "\n",
        "        model.eval()\n",
        "\n",
        "        with torch.no_grad():\n",
        "\n",
        "            for input, labels in validationloader:\n",
        "\n",
        "                input, labels = input.to(device), labels.to(device)\n",
        "                #Forward pass, get our log-probabilities\n",
        "                logps = model.forward(input)\n",
        "                batch_loss = criterion(logps, labels)    \n",
        "                validation_loss += batch_loss.item()\n",
        "\n",
        "                ps = torch.exp(logps)\n",
        "                top_p, top_class = ps.topk(1, dim=1) # remember ps.topk returns the k highest values in the form of two tuples top_p is the probability values, top_class class indeces\n",
        "                equals = top_class == labels.view(*top_class.shape)\n",
        "                accuracy += torch.mean(equals.type(torch.FloatTensor)).item()\n",
        "        \n",
        "        #calculating epoch's average training loss\n",
        "        train_loss = training_loss / len(trainloader.dataset)        \n",
        "        valid_loss = validation_loss / len(validationloader)\n",
        "\n",
        "        #calculating average loss for each batch\n",
        "        avg_Tbatch_loss = training_loss / steps\n",
        "        avg_Vbatch_loss = validation_loss / steps\n",
        "\n",
        "        #Collect all test and training loss to enable graphing the data\n",
        "        #this is saving each output from the training and validation loss\n",
        "        train_Ls.append(train_loss)\n",
        "        valid_Ls.append(valid_loss)\n",
        "\n",
        "        print(f\"Epoch {epoch+1}/{epochs}.. \"\n",
        "                  f\"Training loss: {train_loss:.3f}.. \"\n",
        "                  f\"Validation loss: {valid_loss:.3f}.. \"\n",
        "                  f\"Validation accuracy: {accuracy/len(validationloader):.3f}\")\n",
        "        training_loss = 0\n",
        "        model.train()\n",
        "\n"
      ]
    },
    {
      "cell_type": "code",
      "execution_count": null,
      "metadata": {},
      "outputs": [],
      "source": [
        "%matplotlib inline\n",
        "%config InlineBackend.figure_format = \"retina\"\n",
        "\n",
        "import matplotlib.pyplot as plt"
      ]
    },
    {
      "cell_type": "code",
      "execution_count": null,
      "metadata": {},
      "outputs": [
        {
          "data": {
            "image/png": "[encoded data removed]",
            "text/plain": [
              "<Figure size 640x480 with 1 Axes>"
            ]
          },
          "metadata": {
            "image/png": {
              "height": 413,
              "width": 547
            }
          },
          "output_type": "display_data"
        }
      ],
      "source": [
        "plt.plot(train_Ls, label=\"Training loss\")\n",
        "plt.plot(valid_Ls, label=\"Validation loss\")\n",
        "#remember to plot model accuracy \n",
        "plt.plot()\n",
        "plt.legend(frameon=False)\n",
        "plt.show()"
      ]
    },
    {
      "cell_type": "markdown",
      "metadata": {
        "id": "K0_P2E7UH8jm"
      },
      "source": [
        "## Testing your network\n",
        "\n",
        "It's good practice to test your trained network on test data, images the network has never seen either in training or validation. This will give you a good estimate for the model's performance on completely new images. Run the test images through the network and measure the accuracy, the same way you did validation. You should be able to reach around 70% accuracy on the test set if the model has been trained well."
      ]
    },
    {
      "cell_type": "code",
      "execution_count": null,
      "metadata": {
        "id": "lkKUWKVEH8jm"
      },
      "outputs": [
        {
          "name": "stdout",
          "output_type": "stream",
          "text": [
            "Accuracy {} 42.72125005722046\n",
            "Len Testloader {} 13\n",
            "Test loss: 0.046.. Test accuracy: 3.286\n",
            " Log Probability: tensor([[-3.1257e-01, -2.0658e+01, -2.0737e+01,  ..., -6.9693e+00,\n",
            "         -1.1651e+01, -2.3272e+01],\n",
            "        [-4.5220e-01, -1.1927e+01, -1.6199e+01,  ..., -4.9151e+00,\n",
            "         -5.3221e+00, -1.4193e+01],\n",
            "        [-2.0169e-02, -2.0485e+01, -2.2644e+01,  ..., -8.9046e+00,\n",
            "         -1.2840e+01, -2.4465e+01],\n",
            "        ...,\n",
            "        [-1.7963e+01, -1.4920e+01, -7.0550e+00,  ..., -1.4029e+01,\n",
            "         -2.4797e+01, -1.6990e+01],\n",
            "        [-7.9121e+00, -9.7572e+00, -5.8698e+00,  ..., -1.1356e+01,\n",
            "         -1.5864e+01, -1.3901e+01],\n",
            "        [-1.5229e+01, -4.3008e+00, -1.9078e+00,  ..., -9.0915e+00,\n",
            "         -1.5766e+01, -1.1165e+01]], device='cuda:0')\n",
            " PS: tensor([[7.3156e-01, 1.0676e-09, 9.8651e-10,  ..., 9.4027e-04, 8.7135e-06,\n",
            "         7.8173e-11],\n",
            "        [6.3622e-01, 6.6083e-06, 9.2216e-08,  ..., 7.3351e-03, 4.8823e-03,\n",
            "         6.8592e-07],\n",
            "        [9.8003e-01, 1.2686e-09, 1.4656e-10,  ..., 1.3576e-04, 2.6522e-06,\n",
            "         2.3720e-11],\n",
            "        ...,\n",
            "        [1.5811e-08, 3.3153e-07, 8.6304e-04,  ..., 8.0769e-07, 1.7007e-11,\n",
            "         4.1825e-08],\n",
            "        [3.6629e-04, 5.7874e-05, 2.8233e-03,  ..., 1.1703e-05, 1.2889e-07,\n",
            "         9.1852e-07],\n",
            "        [2.4341e-07, 1.3558e-02, 1.4841e-01,  ..., 1.1261e-04, 1.4221e-07,\n",
            "         1.4165e-05]], device='cuda:0')\n",
            "Accuracy {} 43.44000005722046\n",
            "Len Testloader {} 13\n",
            "Test loss: 0.084.. Test accuracy: 3.342\n",
            " Log Probability: tensor([[-22.1942, -11.5237,  -5.3611,  ..., -23.2653, -26.3862, -25.4267],\n",
            "        [ -4.5046,  -6.4148,  -4.7824,  ...,  -6.3924,  -9.9789,  -7.0378],\n",
            "        [-12.1609,  -9.7945,  -4.0265,  ..., -11.5051, -19.3432, -13.1422],\n",
            "        ...,\n",
            "        [-58.0572, -51.4501, -74.2202,  ..., -34.5548, -51.5131, -65.4480],\n",
            "        [-25.4695, -22.7469, -31.3731,  ...,  -9.8437, -22.8491, -29.4952],\n",
            "        [-17.4885,  -7.7348,  -9.2096,  ..., -10.6659,  -9.3924,  -7.4905]],\n",
            "       device='cuda:0')\n",
            " PS: tensor([[2.2970e-10, 9.8928e-06, 4.6959e-03,  ..., 7.8707e-11, 3.4723e-12,\n",
            "         9.0645e-12],\n",
            "        [1.1058e-02, 1.6372e-03, 8.3762e-03,  ..., 1.6742e-03, 4.6367e-05,\n",
            "         8.7802e-04],\n",
            "        [5.2308e-06, 5.5755e-05, 1.7836e-02,  ..., 1.0078e-05, 3.9750e-09,\n",
            "         1.9608e-06],\n",
            "        ...,\n",
            "        [6.1106e-26, 4.5240e-23, 5.8419e-33,  ..., 9.8414e-16, 4.2475e-23,\n",
            "         3.7698e-29],\n",
            "        [8.6839e-12, 1.3217e-10, 2.3705e-14,  ..., 5.3079e-05, 1.1934e-10,\n",
            "         1.5502e-13],\n",
            "        [2.5400e-08, 4.3735e-04, 1.0008e-04,  ..., 2.3328e-05, 8.3357e-05,\n",
            "         5.5835e-04]], device='cuda:0')\n",
            "Accuracy {} 44.12750005722046\n",
            "Len Testloader {} 13\n",
            "Test loss: 0.091.. Test accuracy: 3.394\n",
            " Log Probability: tensor([[-23.7901, -15.8894, -23.1232,  ..., -17.7189, -11.1235, -12.3192],\n",
            "        [-22.8219, -16.0949, -23.0708,  ..., -15.3125, -10.2882, -13.2915],\n",
            "        [-18.8713,  -9.5169,  -9.4747,  ..., -13.0954, -10.3924,  -5.8164],\n",
            "        ...,\n",
            "        [-10.6715, -14.2604, -11.9391,  ..., -10.3642,  -9.2211,  -7.9475],\n",
            "        [-12.2809, -13.7476, -11.3392,  ..., -14.8414,  -9.2685, -10.0851],\n",
            "        [-23.8614, -19.9568, -24.2626,  ..., -25.8292, -16.8194,  -8.2459]],\n",
            "       device='cuda:0')\n",
            " PS: tensor([[4.6568e-11, 1.2570e-07, 9.0728e-11,  ..., 2.0173e-08, 1.4761e-05,\n",
            "         4.4653e-06],\n",
            "        [1.2263e-10, 1.0234e-07, 9.5606e-11,  ..., 2.2381e-07, 3.4032e-05,\n",
            "         1.6887e-06],\n",
            "        [6.3720e-09, 7.3600e-05, 7.6772e-05,  ..., 2.0546e-06, 3.0664e-05,\n",
            "         2.9782e-03],\n",
            "        ...,\n",
            "        [2.3197e-05, 6.4087e-07, 6.5302e-06,  ..., 3.1542e-05, 9.8935e-05,\n",
            "         3.5354e-04],\n",
            "        [4.6395e-06, 1.0703e-06, 1.1897e-05,  ..., 3.5848e-07, 9.4351e-05,\n",
            "         4.1696e-05],\n",
            "        [4.3362e-11, 2.1521e-09, 2.9034e-11,  ..., 6.0610e-12, 4.9592e-08,\n",
            "         2.6232e-04]], device='cuda:0')\n",
            "Accuracy {} 44.76812505722046\n",
            "Len Testloader {} 13\n",
            "Test loss: 0.105.. Test accuracy: 3.444\n",
            " Log Probability: tensor([[-23.4864, -22.8991, -27.8578,  ..., -27.6829, -19.1372,  -8.0955],\n",
            "        [-18.0710, -14.9938, -20.0591,  ..., -19.5928, -13.5317,  -7.1689],\n",
            "        [-22.1330, -20.1913, -26.4961,  ..., -20.7746, -13.1328,  -9.0159],\n",
            "        ...,\n",
            "        [-11.7222, -23.8458, -16.2665,  ...,  -9.2300,  -9.5306, -12.3824],\n",
            "        [-15.7075, -22.5040, -20.7830,  ..., -10.2723, -15.5075, -15.8721],\n",
            "        [-14.3279, -15.9791, -14.2601,  ...,  -6.1218, -10.5334, -11.6208]],\n",
            "       device='cuda:0')\n",
            " PS: tensor([[6.3095e-11, 1.1351e-10, 7.9708e-13,  ..., 9.4947e-13, 4.8843e-09,\n",
            "         3.0492e-04],\n",
            "        [1.4186e-08, 3.0782e-07, 1.9429e-09,  ..., 3.0972e-09, 1.3281e-06,\n",
            "         7.7017e-04],\n",
            "        [2.4420e-10, 1.7023e-09, 3.1109e-12,  ..., 9.4996e-10, 1.9792e-06,\n",
            "         1.2146e-04],\n",
            "        ...,\n",
            "        [8.1117e-06, 4.4045e-11, 8.6208e-08,  ..., 9.8055e-05, 7.2593e-05,\n",
            "         4.1918e-06],\n",
            "        [1.5078e-07, 1.6852e-10, 9.4204e-10,  ..., 3.4579e-05, 1.8416e-07,\n",
            "         1.2789e-07],\n",
            "        [5.9904e-07, 1.1492e-07, 6.4106e-07,  ..., 2.1945e-03, 2.6632e-05,\n",
            "         8.9778e-06]], device='cuda:0')\n",
            "Accuracy {} 45.62750005722046\n",
            "Len Testloader {} 13\n",
            "Test loss: 0.027.. Test accuracy: 3.510\n",
            " Log Probability: tensor([[-11.5074, -23.0205, -18.1344,  ..., -10.9605, -11.8243,  -9.7063],\n",
            "        [-17.8283, -23.5857, -21.4487,  ..., -12.9004, -17.2502, -18.0290],\n",
            "        [-19.6964, -28.5969, -24.4666,  ..., -15.7988, -19.0015, -22.4007],\n",
            "        ...,\n",
            "        [-40.5640, -14.8935, -16.1882,  ..., -34.7979, -24.7715, -32.5946],\n",
            "        [-24.7617,  -9.1503, -12.2177,  ..., -22.8789, -18.3993, -24.7429],\n",
            "        [-31.7922, -14.1014, -13.1563,  ..., -28.3119, -24.0879, -27.5621]],\n",
            "       device='cuda:0')\n",
            " PS: tensor([[1.0056e-05, 1.0054e-10, 1.3314e-08,  ..., 1.7374e-05, 7.3246e-06,\n",
            "         6.0896e-05],\n",
            "        [1.8082e-08, 5.7131e-11, 4.8412e-10,  ..., 2.4970e-06, 3.2236e-08,\n",
            "         1.4794e-08],\n",
            "        [2.7924e-09, 3.8064e-13, 2.3674e-11,  ..., 1.3762e-07, 5.5944e-09,\n",
            "         1.8686e-10],\n",
            "        ...,\n",
            "        [2.4170e-18, 3.4029e-07, 9.3234e-08,  ..., 7.7175e-16, 1.7454e-11,\n",
            "         6.9877e-15],\n",
            "        [1.7626e-11, 1.0618e-04, 4.9421e-06,  ..., 1.1583e-10, 1.0216e-08,\n",
            "         1.7960e-11],\n",
            "        [1.5589e-14, 7.5135e-07, 1.9333e-06,  ..., 5.0615e-13, 3.4575e-11,\n",
            "         1.0713e-12]], device='cuda:0')\n",
            "Accuracy {} 46.37750005722046\n",
            "Len Testloader {} 13\n",
            "Test loss: 0.061.. Test accuracy: 3.568\n",
            " Log Probability: tensor([[-29.5520, -10.5483, -10.8287,  ..., -23.7244, -17.8869, -22.6918],\n",
            "        [-42.4994, -22.5548, -21.1275,  ..., -35.9605, -28.4268, -36.5694],\n",
            "        [-14.1267, -21.6191, -28.0294,  ..., -14.8283,  -8.9750, -28.4886],\n",
            "        ...,\n",
            "        [ -9.5050, -30.9415, -30.3313,  ..., -13.5056, -12.7643, -26.7138],\n",
            "        [-10.8707, -25.6054, -27.3308,  ..., -12.2490, -13.1755, -22.3936],\n",
            "        [ -6.4910, -18.6665, -22.6522,  ...,  -8.2472, -11.9976, -15.7230]],\n",
            "       device='cuda:0')\n",
            " PS: tensor([[1.4646e-13, 2.6238e-05, 1.9822e-05,  ..., 4.9731e-11, 1.7054e-08,\n",
            "         1.3966e-10],\n",
            "        [3.4895e-19, 1.6017e-10, 6.6747e-10,  ..., 2.4130e-16, 4.5124e-13,\n",
            "         1.3125e-16],\n",
            "        [7.3261e-07, 4.0825e-10, 6.7140e-13,  ..., 3.6321e-07, 1.2654e-04,\n",
            "         4.2420e-13],\n",
            "        ...,\n",
            "        [7.4476e-05, 3.6498e-14, 6.7190e-14,  ..., 1.3633e-06, 2.8611e-06,\n",
            "         2.5024e-12],\n",
            "        [1.9007e-05, 7.5810e-12, 1.3501e-12,  ..., 4.7898e-06, 1.8965e-06,\n",
            "         1.8819e-10],\n",
            "        [1.5171e-03, 7.8208e-09, 1.4530e-10,  ..., 2.6199e-04, 6.1587e-06,\n",
            "         1.4845e-07]], device='cuda:0')\n",
            "Accuracy {} 47.34625005722046\n",
            "Len Testloader {} 13\n",
            "Test loss: 0.006.. Test accuracy: 3.642\n",
            " Log Probability: tensor([[-13.2308, -27.3638, -28.9683,  ..., -13.6077, -17.1768, -21.4606],\n",
            "        [-14.1713, -25.1657, -28.5621,  ..., -10.5617, -13.9448, -26.4063],\n",
            "        [-13.4914, -27.7505, -35.6617,  ..., -11.8879, -12.8527, -29.3794],\n",
            "        ...,\n",
            "        [-23.9913, -10.2004,  -7.2241,  ..., -23.3377, -34.1254, -33.1688],\n",
            "        [-24.7939, -23.5742, -20.1755,  ..., -18.7680, -29.0388, -27.6064],\n",
            "        [-22.6212, -18.3502, -16.7432,  ..., -18.3097, -25.2581, -26.1088]],\n",
            "       device='cuda:0')\n",
            " PS: tensor([[1.7945e-06, 1.3064e-12, 2.6255e-13,  ..., 1.2309e-06, 3.4690e-08,\n",
            "         4.7840e-10],\n",
            "        [7.0065e-07, 1.1768e-11, 3.9413e-13,  ..., 2.5889e-05, 8.7874e-07,\n",
            "         3.4031e-12],\n",
            "        [1.3829e-06, 8.8734e-13, 3.2534e-16,  ..., 6.8729e-06, 2.6191e-06,\n",
            "         1.7406e-13],\n",
            "        ...,\n",
            "        [3.8079e-11, 3.7155e-05, 7.2879e-04,  ..., 7.3208e-11, 1.5119e-15,\n",
            "         3.9353e-15],\n",
            "        [1.7067e-11, 5.7791e-11, 1.7294e-09,  ..., 7.0658e-09, 2.4468e-13,\n",
            "         1.0249e-12],\n",
            "        [1.4988e-10, 1.0730e-08, 5.3518e-08,  ..., 1.1174e-08, 1.0728e-11,\n",
            "         4.5822e-12]], device='cuda:0')\n",
            "Accuracy {} 48.14312505722046\n",
            "Len Testloader {} 13\n",
            "Test loss: 0.044.. Test accuracy: 3.703\n",
            " Log Probability: tensor([[-22.3359, -12.5541, -16.0339,  ..., -20.4954, -27.0013, -26.1906],\n",
            "        [-26.8811, -26.2579, -21.6836,  ..., -31.0585, -39.4203, -38.4652],\n",
            "        [-33.8711, -30.4503, -22.8232,  ..., -31.9195, -41.3965, -45.6479],\n",
            "        ...,\n",
            "        [-29.9100, -25.2177, -22.0831,  ..., -18.7881, -31.3201, -19.5283],\n",
            "        [-15.0861, -15.7930, -14.7756,  ..., -11.2032, -18.5953, -11.2921],\n",
            "        [-42.1957, -33.6990, -30.9017,  ..., -29.9560, -49.4180, -29.4987]],\n",
            "       device='cuda:0')\n",
            " PS: tensor([[1.9935e-10, 3.5305e-06, 1.0878e-07,  ..., 1.2559e-09, 1.8771e-12,\n",
            "         4.2223e-12],\n",
            "        [2.1168e-12, 3.9478e-12, 3.8277e-10,  ..., 3.2469e-14, 7.5851e-18,\n",
            "         1.9713e-17],\n",
            "        [1.9497e-15, 5.9650e-14, 1.2247e-10,  ..., 1.3726e-14, 1.0513e-18,\n",
            "         1.4975e-20],\n",
            "        ...,\n",
            "        [1.0239e-13, 1.1171e-11, 2.5670e-10,  ..., 6.9250e-09, 2.4995e-14,\n",
            "         3.3035e-09],\n",
            "        [2.8065e-07, 1.3841e-07, 3.8284e-07,  ..., 1.3631e-05, 8.3981e-09,\n",
            "         1.2471e-05],\n",
            "        [4.7274e-19, 2.3159e-15, 3.7980e-14,  ..., 9.7783e-14, 3.4517e-22,\n",
            "         1.5448e-13]], device='cuda:0')\n",
            "Accuracy {} 49.08062505722046\n",
            "Len Testloader {} 13\n",
            "Test loss: 0.016.. Test accuracy: 3.775\n",
            " Log Probability: tensor([[-18.9926, -18.7935, -14.7609,  ..., -13.6079, -21.8070, -13.7662],\n",
            "        [-35.3859, -42.5162, -35.1451,  ..., -21.0230, -47.4649, -28.9406],\n",
            "        [-40.2159, -44.2366, -39.8857,  ..., -25.8102, -53.8521, -29.7983],\n",
            "        ...,\n",
            "        [-10.7332, -12.7488,  -9.6483,  ..., -12.8865, -20.0991, -14.2937],\n",
            "        [-21.7239, -32.5388, -34.1916,  ..., -27.2998, -38.1009, -36.9758],\n",
            "        [-30.1175, -38.2149, -38.1169,  ..., -37.2933, -40.4446, -45.9292]],\n",
            "       device='cuda:0')\n",
            " PS: tensor([[5.6444e-09, 6.8881e-09, 3.8852e-07,  ..., 1.2307e-06, 3.3832e-10,\n",
            "         1.0505e-06],\n",
            "        [4.2863e-16, 3.4313e-19, 5.4533e-16,  ..., 7.4101e-10, 2.4336e-21,\n",
            "         2.6995e-13],\n",
            "        [3.4234e-18, 6.1419e-20, 4.7627e-18,  ..., 6.1770e-12, 4.0956e-24,\n",
            "         1.1449e-13],\n",
            "        ...,\n",
            "        [2.1809e-05, 2.9059e-06, 6.4533e-05,  ..., 2.5321e-06, 1.8667e-09,\n",
            "         6.1989e-07],\n",
            "        [3.6765e-10, 7.3885e-15, 1.4151e-15,  ..., 1.3927e-12, 2.8378e-17,\n",
            "         8.7421e-17],\n",
            "        [8.3200e-14, 2.5320e-17, 2.7929e-17,  ..., 6.3642e-17, 2.7234e-18,\n",
            "         1.1304e-20]], device='cuda:0')\n",
            "Accuracy {} 50.00250005722046\n",
            "Len Testloader {} 13\n",
            "Test loss: 0.016.. Test accuracy: 3.846\n",
            " Log Probability: tensor([[-36.0913, -41.4888, -37.3689,  ..., -45.6715, -54.4124, -50.8981],\n",
            "        [-24.3555, -25.6238, -21.1812,  ..., -31.2037, -42.9255, -35.3237],\n",
            "        [-17.3900, -20.5025, -18.6199,  ..., -19.6779, -26.5133, -29.5590],\n",
            "        ...,\n",
            "        [-26.6604, -37.4520, -29.8257,  ..., -28.3304, -41.6195, -29.4011],\n",
            "        [-37.6448, -51.7543, -44.9767,  ..., -38.3306, -54.3679, -34.0138],\n",
            "        [-19.5032, -33.8302, -30.3972,  ..., -23.4945, -34.3677, -23.5300]],\n",
            "       device='cuda:0')\n",
            " PS: tensor([[2.1172e-16, 9.5859e-19, 5.9005e-17,  ..., 1.4625e-20, 2.3389e-24,\n",
            "         7.8568e-23],\n",
            "        [2.6457e-11, 7.4427e-12, 6.3258e-10,  ..., 2.8079e-14, 2.2788e-19,\n",
            "         4.5616e-16],\n",
            "        [2.8029e-08, 1.2470e-09, 8.1934e-09,  ..., 2.8446e-09, 3.0580e-12,\n",
            "         1.4545e-13],\n",
            "        ...,\n",
            "        [2.6395e-12, 5.4300e-17, 1.1140e-13,  ..., 4.9691e-13, 8.4116e-19,\n",
            "         1.7032e-13],\n",
            "        [4.4778e-17, 3.3372e-23, 2.9299e-20,  ..., 2.2554e-17, 2.4453e-24,\n",
            "         1.6904e-15],\n",
            "        [3.3875e-09, 2.0312e-15, 6.2905e-14,  ..., 6.2587e-11, 1.1866e-15,\n",
            "         6.0399e-11]], device='cuda:0')\n",
            "Accuracy {} 50.72125005722046\n",
            "Len Testloader {} 13\n",
            "Test loss: 0.068.. Test accuracy: 3.902\n",
            " Log Probability: tensor([[-31.3354, -43.5747, -33.7377,  ..., -33.9845, -46.9303, -31.4276],\n",
            "        [-17.2892, -20.2438, -15.0816,  ..., -12.7095, -20.3350, -13.6343],\n",
            "        [-27.1939, -37.6648, -33.3689,  ..., -24.4187, -39.1550, -24.0759],\n",
            "        ...,\n",
            "        [ -8.4057, -16.6042, -14.7121,  ..., -12.8235, -11.8615,  -7.5658],\n",
            "        [-24.0140, -29.8983, -32.1634,  ..., -29.8917, -29.2258, -15.6712],\n",
            "        [-26.5445, -35.4927, -37.2501,  ..., -35.5999, -32.9280, -22.8805]],\n",
            "       device='cuda:0')\n",
            " PS: tensor([[2.4617e-14, 1.1905e-19, 2.2279e-15,  ..., 1.7408e-15, 4.1538e-21,\n",
            "         2.2447e-14],\n",
            "        [3.1002e-08, 1.6152e-09, 2.8194e-07,  ..., 3.0223e-06, 1.4744e-09,\n",
            "         1.1986e-06],\n",
            "        [1.5483e-12, 4.3893e-17, 3.2216e-15,  ..., 2.4838e-11, 9.8898e-18,\n",
            "         3.4992e-11],\n",
            "        ...,\n",
            "        [2.2359e-04, 6.1503e-08, 4.0796e-07,  ..., 2.6965e-06, 7.0568e-06,\n",
            "         5.1786e-04],\n",
            "        [3.7227e-11, 1.0360e-13, 1.0756e-14,  ..., 1.0428e-13, 2.0296e-13,\n",
            "         1.5635e-07],\n",
            "        [2.9640e-12, 3.8524e-16, 6.6448e-17,  ..., 3.4607e-16, 5.0066e-15,\n",
            "         1.1565e-10]], device='cuda:0')\n",
            "Accuracy {} 51.48687505722046\n",
            "Len Testloader {} 13\n",
            "Test loss: 0.094.. Test accuracy: 3.961\n",
            " Log Probability: tensor([[-18.0782, -24.4702, -22.7564,  ..., -21.6237, -21.0607, -13.8528],\n",
            "        [-20.9107, -27.4276, -27.1165,  ..., -18.8148, -23.4371, -15.2837],\n",
            "        [-18.0003, -22.5265, -21.4209,  ..., -17.8972, -21.7246, -11.5334],\n",
            "        ...,\n",
            "        [ -6.9207,  -8.4438,  -8.2719,  ...,  -6.4727,  -5.9756,  -4.6783],\n",
            "        [-22.5760, -22.8206, -31.6523,  ..., -16.7646, -20.6786, -20.8158],\n",
            "        [ -7.0625, -10.8048, -13.0316,  ...,  -7.7670,  -8.7421,  -8.2727]],\n",
            "       device='cuda:0')\n",
            " PS: tensor([[1.4084e-08, 2.3590e-11, 1.3093e-10,  ..., 4.0639e-10, 7.1361e-10,\n",
            "         9.6342e-07],\n",
            "        [8.2911e-10, 1.2255e-12, 1.6728e-12,  ..., 6.7425e-09, 6.6280e-11,\n",
            "         2.3035e-07],\n",
            "        [1.5225e-08, 1.6476e-10, 4.9776e-10,  ..., 1.6880e-08, 3.6737e-10,\n",
            "         9.7973e-06],\n",
            "        ...,\n",
            "        [9.8716e-04, 2.1523e-04, 2.5559e-04,  ..., 1.5450e-03, 2.5400e-03,\n",
            "         9.2951e-03],\n",
            "        [1.5681e-10, 1.2279e-10, 1.7931e-14,  ..., 5.2389e-08, 1.0457e-09,\n",
            "         9.1162e-10],\n",
            "        [8.5663e-04, 2.0302e-05, 2.1899e-06,  ..., 4.2348e-04, 1.5972e-04,\n",
            "         2.5540e-04]], device='cuda:0')\n",
            "Accuracy {} 52.346875071525574\n",
            "Len Testloader {} 13\n",
            "Test loss: 0.038.. Test accuracy: 4.027\n",
            " Log Probability: tensor([[-2.6989e+01, -3.1275e+01, -3.2340e+01,  ..., -1.9202e+01,\n",
            "         -2.6820e+01, -2.0749e+01],\n",
            "        [-3.7051e+01, -3.7011e+01, -3.9425e+01,  ..., -2.5271e+01,\n",
            "         -3.4220e+01, -2.4105e+01],\n",
            "        [-5.5500e+01, -4.5486e+01, -5.0024e+01,  ..., -3.4141e+01,\n",
            "         -4.9346e+01, -4.0157e+01],\n",
            "        ...,\n",
            "        [-2.9741e+01, -2.3478e+01, -2.3004e+01,  ..., -2.5353e+01,\n",
            "         -2.2369e+01, -4.6695e-04],\n",
            "        [-1.7946e+01, -1.3136e+01, -1.4529e+01,  ..., -1.3102e+01,\n",
            "         -1.0877e+01, -3.7454e-02],\n",
            "        [-3.2428e+01, -2.3656e+01, -2.3242e+01,  ..., -2.4011e+01,\n",
            "         -2.3506e+01, -9.8371e-04]], device='cuda:0')\n",
            " PS: tensor([[1.9002e-12, 2.6161e-14, 9.0172e-15,  ..., 4.5800e-09, 2.2495e-12,\n",
            "         9.7490e-10],\n",
            "        [8.1052e-17, 8.4361e-17, 7.5482e-18,  ..., 1.0592e-11, 1.3752e-15,\n",
            "         3.3977e-11],\n",
            "        [7.8826e-25, 1.7613e-20, 1.8826e-22,  ..., 1.4886e-15, 3.7098e-22,\n",
            "         3.6305e-18],\n",
            "        ...,\n",
            "        [1.2122e-13, 6.3650e-11, 1.0221e-10,  ..., 9.7540e-12, 1.9281e-10,\n",
            "         9.9953e-01],\n",
            "        [1.6071e-08, 1.9729e-06, 4.9002e-07,  ..., 2.0401e-06, 1.8896e-05,\n",
            "         9.6324e-01],\n",
            "        [8.2556e-15, 5.3249e-11, 8.0526e-11,  ..., 3.7322e-11, 6.1892e-11,\n",
            "         9.9902e-01]], device='cuda:0')\n"
          ]
        }
      ],
      "source": [
        "# TODO: Do validation on the test set\n",
        "model.eval()\n",
        "\n",
        "    \n",
        "for input, labels in validationloader:\n",
        "\n",
        "        input, labels = input.to(device), labels.to(device)\n",
        "\n",
        "        with torch.no_grad():\n",
        "        \n",
        "                logps = model.forward(input)\n",
        "                batch_loss = criterion(logps, labels)\n",
        "                test_loss = batch_loss.item()\n",
        "\n",
        "                ps = torch.exp(logps)\n",
        "                top_p, top_class = ps.topk(1, dim=1) # remember ps.topk returns the k highest values in the form of two tuples top_p is the probability values, top_class class indeces\n",
        "                equals = top_class == labels.view(*top_class.shape)\n",
        "                accuracy += torch.mean(equals.type(torch.FloatTensor)).item()\n",
        "                print(\"Accuracy {}\",accuracy)\n",
        "                print(\"Len Testloader {}\", len(testloader))\n",
        "\n",
        "        print(f\"Test loss: {test_loss/len(testloader):.3f}.. \"\n",
        "                f\"Test accuracy: {accuracy/len(testloader):.3f}\"\n",
        "                f\"\\n Log Probability: {logps}\"\n",
        "                f\"\\n PS: {ps}\")"
      ]
    },
    {
      "cell_type": "markdown",
      "metadata": {
        "id": "bW13UkPrH8jm"
      },
      "source": [
        "## Save the checkpoint\n",
        "\n",
        "Now that your network is trained, save the model so you can load it later for making predictions. You probably want to save other things such as the mapping of classes to indices which you get from one of the image datasets: `image_datasets['train'].class_to_idx`. You can attach this to the model as an attribute which makes inference easier later on.\n",
        "\n",
        "```model.class_to_idx = image_datasets['train'].class_to_idx```\n",
        "\n",
        "Remember that you'll want to completely rebuild the model later so you can use it for inference. Make sure to include any information you need in the checkpoint. If you want to load the model and keep training, you'll want to save the number of epochs as well as the optimizer state, `optimizer.state_dict`. You'll likely want to use this trained model in the next part of the project, so best to save it now."
      ]
    },
    {
      "cell_type": "code",
      "execution_count": null,
      "metadata": {
        "id": "Vurlft9zH8jm"
      },
      "outputs": [
        {
          "ename": "UnpicklingError",
          "evalue": "Weights only load failed. This file can still be loaded, to do so you have two options, \u001b[1mdo those steps only if you trust the source of the checkpoint\u001b[0m. \n\t(1) In PyTorch 2.6, we changed the default value of the `weights_only` argument in `torch.load` from `False` to `True`. Re-running `torch.load` with `weights_only` set to `False` will likely succeed, but it can result in arbitrary code execution. Do it only if you got the file from a trusted source.\n\t(2) Alternatively, to load with `weights_only=True` please check the recommended steps in the following error message.\n\tWeightsUnpickler error: Unsupported global: GLOBAL torchvision.models.vgg.VGG was not an allowed global by default. Please use `torch.serialization.add_safe_globals([VGG])` or the `torch.serialization.safe_globals([VGG])` context manager to allowlist this global if you trust this class/function.\n\nCheck the documentation of torch.load to learn more about types accepted by default with weights_only https://pytorch.org/docs/stable/generated/torch.load.html.",
          "output_type": "error",
          "traceback": [
            "\u001b[0;31m---------------------------------------------------------------------------\u001b[0m",
            "\u001b[0;31mUnpicklingError\u001b[0m                           Traceback (most recent call last)",
            "Cell \u001b[0;32mIn[29], line 4\u001b[0m\n\u001b[1;32m      1\u001b[0m \u001b[38;5;66;03m# TODO: Save the checkpoint\u001b[39;00m\n\u001b[1;32m      2\u001b[0m torch\u001b[38;5;241m.\u001b[39msave(model, \u001b[38;5;124m'\u001b[39m\u001b[38;5;124mcheckpoint.pth\u001b[39m\u001b[38;5;124m'\u001b[39m)\n\u001b[0;32m----> 4\u001b[0m test \u001b[38;5;241m=\u001b[39m torch\u001b[38;5;241m.\u001b[39mload(\u001b[38;5;124m'\u001b[39m\u001b[38;5;124mcheckpoint.pth\u001b[39m\u001b[38;5;124m'\u001b[39m)\n\u001b[1;32m      5\u001b[0m \u001b[38;5;28mprint\u001b[39m(\u001b[38;5;124m\"\u001b[39m\u001b[38;5;124mThe state dict: \u001b[39m\u001b[38;5;132;01m{}\u001b[39;00m\u001b[38;5;124m\"\u001b[39m, (test))\n",
            "File \u001b[0;32m~/anaconda3/lib/python3.12/site-packages/torch/serialization.py:1470\u001b[0m, in \u001b[0;36mload\u001b[0;34m(f, map_location, pickle_module, weights_only, mmap, **pickle_load_args)\u001b[0m\n\u001b[1;32m   1462\u001b[0m                 \u001b[38;5;28;01mreturn\u001b[39;00m _load(\n\u001b[1;32m   1463\u001b[0m                     opened_zipfile,\n\u001b[1;32m   1464\u001b[0m                     map_location,\n\u001b[0;32m   (...)\u001b[0m\n\u001b[1;32m   1467\u001b[0m                     \u001b[38;5;241m*\u001b[39m\u001b[38;5;241m*\u001b[39mpickle_load_args,\n\u001b[1;32m   1468\u001b[0m                 )\n\u001b[1;32m   1469\u001b[0m             \u001b[38;5;28;01mexcept\u001b[39;00m pickle\u001b[38;5;241m.\u001b[39mUnpicklingError \u001b[38;5;28;01mas\u001b[39;00m e:\n\u001b[0;32m-> 1470\u001b[0m                 \u001b[38;5;28;01mraise\u001b[39;00m pickle\u001b[38;5;241m.\u001b[39mUnpicklingError(_get_wo_message(\u001b[38;5;28mstr\u001b[39m(e))) \u001b[38;5;28;01mfrom\u001b[39;00m \u001b[38;5;28;01mNone\u001b[39;00m\n\u001b[1;32m   1471\u001b[0m         \u001b[38;5;28;01mreturn\u001b[39;00m _load(\n\u001b[1;32m   1472\u001b[0m             opened_zipfile,\n\u001b[1;32m   1473\u001b[0m             map_location,\n\u001b[0;32m   (...)\u001b[0m\n\u001b[1;32m   1476\u001b[0m             \u001b[38;5;241m*\u001b[39m\u001b[38;5;241m*\u001b[39mpickle_load_args,\n\u001b[1;32m   1477\u001b[0m         )\n\u001b[1;32m   1478\u001b[0m \u001b[38;5;28;01mif\u001b[39;00m mmap:\n",
            "\u001b[0;31mUnpicklingError\u001b[0m: Weights only load failed. This file can still be loaded, to do so you have two options, \u001b[1mdo those steps only if you trust the source of the checkpoint\u001b[0m. \n\t(1) In PyTorch 2.6, we changed the default value of the `weights_only` argument in `torch.load` from `False` to `True`. Re-running `torch.load` with `weights_only` set to `False` will likely succeed, but it can result in arbitrary code execution. Do it only if you got the file from a trusted source.\n\t(2) Alternatively, to load with `weights_only=True` please check the recommended steps in the following error message.\n\tWeightsUnpickler error: Unsupported global: GLOBAL torchvision.models.vgg.VGG was not an allowed global by default. Please use `torch.serialization.add_safe_globals([VGG])` or the `torch.serialization.safe_globals([VGG])` context manager to allowlist this global if you trust this class/function.\n\nCheck the documentation of torch.load to learn more about types accepted by default with weights_only https://pytorch.org/docs/stable/generated/torch.load.html."
          ]
        }
      ],
      "source": [
        "# TODO: Save the checkpoint\n",
        "torch.save(model, 'checkpoint.pth')\n",
        "\n",
        "test = torch.load('checkpoint.pth')\n",
        "print(\"The state dict: {}\", (test))"
      ]
    },
    {
      "cell_type": "markdown",
      "metadata": {
        "id": "LZ4-Ty1SH8jn"
      },
      "source": [
        "## Loading the checkpoint\n",
        "\n",
        "At this point it's good to write a function that can load a checkpoint and rebuild the model. That way you can come back to this project and keep working on it without having to retrain the network."
      ]
    },
    {
      "cell_type": "code",
      "execution_count": null,
      "metadata": {
        "id": "gy3AkCb0H8jn"
      },
      "outputs": [],
      "source": [
        "# TODO: Write a function that loads a checkpoint and rebuilds the model"
      ]
    },
    {
      "cell_type": "markdown",
      "metadata": {
        "id": "kqqTAGMdH8jn"
      },
      "source": [
        "# Inference for classification\n",
        "\n",
        "Now you'll write a function to use a trained network for inference. That is, you'll pass an image into the network and predict the class of the flower in the image. Write a function called `predict` that takes an image and a model, then returns the top $K$ most likely classes along with the probabilities. It should look like\n",
        "\n",
        "```python\n",
        "probs, classes = predict(image_path, model)\n",
        "print(probs)\n",
        "print(classes)\n",
        "> [ 0.01558163  0.01541934  0.01452626  0.01443549  0.01407339]\n",
        "> ['70', '3', '45', '62', '55']\n",
        "```\n",
        "\n",
        "First you'll need to handle processing the input image such that it can be used in your network.\n",
        "\n",
        "## Image Preprocessing\n",
        "\n",
        "You'll want to use `PIL` to load the image ([documentation](https://pillow.readthedocs.io/en/latest/reference/Image.html)). It's best to write a function that preprocesses the image so it can be used as input for the model. This function should process the images in the same manner used for training.\n",
        "\n",
        "First, resize the images where the shortest side is 256 pixels, keeping the aspect ratio. This can be done with the [`thumbnail`](http://pillow.readthedocs.io/en/3.1.x/reference/Image.html#PIL.Image.Image.thumbnail) or [`resize`](http://pillow.readthedocs.io/en/3.1.x/reference/Image.html#PIL.Image.Image.thumbnail) methods. Then you'll need to crop out the center 224x224 portion of the image.\n",
        "\n",
        "Color channels of images are typically encoded as integers 0-255, but the model expected floats 0-1. You'll need to convert the values. It's easiest with a Numpy array, which you can get from a PIL image like so `np_image = np.array(pil_image)`.\n",
        "\n",
        "As before, the network expects the images to be normalized in a specific way. For the means, it's `[0.485, 0.456, 0.406]` and for the standard deviations `[0.229, 0.224, 0.225]`. You'll want to subtract the means from each color channel, then divide by the standard deviation.\n",
        "\n",
        "And finally, PyTorch expects the color channel to be the first dimension but it's the third dimension in the PIL image and Numpy array. You can reorder dimensions using [`ndarray.transpose`](https://docs.scipy.org/doc/numpy-1.13.0/reference/generated/numpy.ndarray.transpose.html). The color channel needs to be first and retain the order of the other two dimensions."
      ]
    },
    {
      "cell_type": "code",
      "execution_count": null,
      "metadata": {
        "id": "H_U5ZgfiH8jn"
      },
      "outputs": [],
      "source": [
        "def process_image(image):\n",
        "    ''' Scales, crops, and normalizes a PIL image for a PyTorch model,\n",
        "        returns an Numpy array\n",
        "    '''\n",
        "\n",
        "    # TODO: Process a PIL image for use in a PyTorch model"
      ]
    },
    {
      "cell_type": "markdown",
      "metadata": {
        "id": "ztvxZaE6H8jn"
      },
      "source": [
        "To check your work, the function below converts a PyTorch tensor and displays it in the notebook. If your `process_image` function works, running the output through this function should return the original image (except for the cropped out portions)."
      ]
    },
    {
      "cell_type": "code",
      "execution_count": null,
      "metadata": {
        "id": "e13qAH8oH8jn"
      },
      "outputs": [],
      "source": [
        "def imshow(image, ax=None, title=None):\n",
        "    \"\"\"Imshow for Tensor.\"\"\"\n",
        "    if ax is None:\n",
        "        fig, ax = plt.subplots()\n",
        "\n",
        "    # PyTorch tensors assume the color channel is the first dimension\n",
        "    # but matplotlib assumes is the third dimension\n",
        "    image = image.numpy().transpose((1, 2, 0))\n",
        "\n",
        "    # Undo preprocessing\n",
        "    mean = np.array([0.485, 0.456, 0.406])\n",
        "    std = np.array([0.229, 0.224, 0.225])\n",
        "    image = std * image + mean\n",
        "\n",
        "    # Image needs to be clipped between 0 and 1 or it looks like noise when displayed\n",
        "    image = np.clip(image, 0, 1)\n",
        "\n",
        "    ax.imshow(image)\n",
        "\n",
        "    return ax"
      ]
    },
    {
      "cell_type": "markdown",
      "metadata": {
        "id": "YokvislwH8jn"
      },
      "source": [
        "## Class Prediction\n",
        "\n",
        "Once you can get images in the correct format, it's time to write a function for making predictions with your model. A common practice is to predict the top 5 or so (usually called top-$K$) most probable classes. You'll want to calculate the class probabilities then find the $K$ largest values.\n",
        "\n",
        "To get the top $K$ largest values in a tensor use [`x.topk(k)`](http://pytorch.org/docs/master/torch.html#torch.topk). This method returns both the highest `k` probabilities and the indices of those probabilities corresponding to the classes. You need to convert from these indices to the actual class labels using `class_to_idx` which hopefully you added to the model or from an `ImageFolder` you used to load the data ([see here](#Save-the-checkpoint)). Make sure to invert the dictionary so you get a mapping from index to class as well.\n",
        "\n",
        "Again, this method should take a path to an image and a model checkpoint, then return the probabilities and classes.\n",
        "\n",
        "```python\n",
        "probs, classes = predict(image_path, model)\n",
        "print(probs)\n",
        "print(classes)\n",
        "> [ 0.01558163  0.01541934  0.01452626  0.01443549  0.01407339]\n",
        "> ['70', '3', '45', '62', '55']\n",
        "```"
      ]
    },
    {
      "cell_type": "code",
      "execution_count": null,
      "metadata": {
        "id": "uNj0V8ZPH8jn"
      },
      "outputs": [],
      "source": [
        "def predict(image_path, model, topk=5):\n",
        "    ''' Predict the class (or classes) of an image using a trained deep learning model.\n",
        "    '''\n",
        "\n",
        "    # TODO: Implement the code to predict the class from an image file"
      ]
    },
    {
      "cell_type": "markdown",
      "metadata": {
        "id": "5jdothvhH8jn"
      },
      "source": [
        "## Sanity Checking\n",
        "\n",
        "Now that you can use a trained model for predictions, check to make sure it makes sense. Even if the testing accuracy is high, it's always good to check that there aren't obvious bugs. Use `matplotlib` to plot the probabilities for the top 5 classes as a bar graph, along with the input image. It should look like this:\n",
        "\n",
        "<img src='https://github.com/amnyulwa/aipnd-project/blob/master/assets/inference_example.png?raw=1' width=300px>\n",
        "\n",
        "You can convert from the class integer encoding to actual flower names with the `cat_to_name.json` file (should have been loaded earlier in the notebook). To show a PyTorch tensor as an image, use the `imshow` function defined above."
      ]
    },
    {
      "cell_type": "code",
      "execution_count": null,
      "metadata": {
        "id": "jNMqSr7kH8jn"
      },
      "outputs": [],
      "source": [
        "# TODO: Display an image along with the top 5 classes"
      ]
    }
  ],
  "metadata": {
    "colab": {
      "provenance": []
    },
    "kernelspec": {
      "display_name": "base",
      "language": "python",
      "name": "python3"
    },
    "language_info": {
      "codemirror_mode": {
        "name": "ipython",
        "version": 3
      },
      "file_extension": ".py",
      "mimetype": "text/x-python",
      "name": "python",
      "nbconvert_exporter": "python",
      "pygments_lexer": "ipython3",
      "version": "3.12.2"
    }
  },
  "nbformat": 4,
  "nbformat_minor": 0
}
