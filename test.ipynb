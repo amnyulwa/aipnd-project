{
  "cells": [
    {
      "cell_type": "code",
      "execution_count": 96,
      "metadata": {
        "id": "OnNShejaKhhR"
      },
      "outputs": [],
      "source": [
        "import torch\n",
        "from PIL import Image\n",
        "import numpy as np\n",
        "import matplotlib.pyplot as plt\n",
        "from torchvision import transforms"
      ]
    },
    {
      "cell_type": "code",
      "execution_count": 97,
      "metadata": {
        "id": "4RZ1hVxFKhhS"
      },
      "outputs": [],
      "source": [
        "def process_image(image):\n",
        "    ''' Scales, crops, and normalizes a PIL image for a PyTorch model,\n",
        "        returns an Numpy array\n",
        "    '''\n",
        "\n",
        "    # TODO: Process a PIL image for use in a PyTorch model\n",
        "    mean = np.array([0.485, 0.456, 0.406])\n",
        "    std = np.array([0.229, 0.224, 0.225])\n",
        "    size = 256, 256\n",
        "    print(\"mean shape: \", mean.shape)\n",
        "    with Image.open(image) as im:\n",
        "\n",
        "\n",
        "        print('flowers/train/1/image_06734.jpg',im)\n",
        "\n",
        "        im.thumbnail(size)\n",
        "\n",
        "        width, height = im.size\n",
        "\n",
        "        if width < height:\n",
        "            im = im.resize((256, int(height * (256 / width))))\n",
        "        else:\n",
        "            im = im.resize((int(width * (256 / height)), 256))\n",
        "\n",
        "        left = (width - 224) / 2\n",
        "        top = (height - 224) / 2\n",
        "        right = (width + 224) / 2\n",
        "        bottom = (height + 224) / 2\n",
        "\n",
        "        cropped_im = im.crop((left, top, right, bottom))\n",
        "        #cropped_im.show()\n",
        "        np_image = np.array(cropped_im)\n",
        "        print(np_image.shape)\n",
        "        #we are looping through this image 3 times because there is 3 color chanel\n",
        "        \"\"\"for i in range(3):\n",
        "            print(\"color channel:\", np_image[1, 1, i])\n",
        "            np_image[:, :, i] = (np_image[:, :, i] - mean[i]) / std[i]\n",
        "            print(\"After color channel:\", np_image[1, 1, i])\"\"\"\n",
        "\n",
        "        #np_image = np_image - mean / std\n",
        "\n",
        "        #we are converting this back to torch tensor because the model is expecting a torch tensor as well as transposing the the color channel\n",
        "\n",
        "        np_image = torch.from_numpy(np_image)\n",
        "\n",
        "        np_image = np_image.permute(2, 0, 1)\n",
        "\n",
        "        print(\"Color channel\", np_image[1,1,1])\n",
        "\n",
        "        transform = transforms.Normalize(mean, std)\n",
        "        image = transform(np_image.float())\n",
        "        print(\"Color channel\", np_image[1,1,1])\n",
        "\n",
        "\n",
        "        print(np_image.shape)\n",
        "\n",
        "\n",
        "    return np_image\n"
      ]
    },
    {
      "cell_type": "code",
      "execution_count": 98,
      "metadata": {
        "id": "BXhCu1tNKhhS"
      },
      "outputs": [],
      "source": [
        "\n",
        "def imshow(image, ax=None, title=None):\n",
        "    \"\"\"Imshow for Tensor.\"\"\"\n",
        "    if ax is None:\n",
        "        fig, ax = plt.subplots()\n",
        "    print(\"Image type:\",type(image))\n",
        "    # PyTorch tensors assume the color channel is the first dimension\n",
        "    # but matplotlib assumes is the third dimension\n",
        "    image = image.numpy().transpose((1, 2, 0))\n",
        "\n",
        "    # Undo preprocessing\n",
        "    mean = np.array([0.485, 0.456, 0.406])\n",
        "    std = np.array([0.229, 0.224, 0.225])\n",
        "    image = std * image + mean\n",
        "\n",
        "    # Image needs to be clipped between 0 and 1 or it looks like noise when displayed\n",
        "    image = np.clip(image, 0, 1)\n",
        "\n",
        "    ax.imshow(image)\n",
        "\n",
        "    return ax\n"
      ]
    },
    {
      "cell_type": "code",
      "execution_count": 100,
      "metadata": {
        "id": "Jf3d9xsVKhhS",
        "outputId": "711c855b-f7b6-4306-c143-7e48e72c5df1",
        "colab": {
          "base_uri": "https://localhost:8080/",
          "height": 1000
        }
      },
      "outputs": [
        {
          "output_type": "stream",
          "name": "stdout",
          "text": [
            "mean shape:  (3,)\n",
            "flowers/train/1/image_06734.jpg <PIL.JpegImagePlugin.JpegImageFile image mode=RGB size=523x500 at 0x7C787E0C5350>\n",
            "(224, 224, 3)\n",
            "Color channel tensor(37, dtype=torch.uint8)\n",
            "Color channel tensor(37, dtype=torch.uint8)\n",
            "torch.Size([3, 224, 224])\n",
            "Image type: <class 'str'>\n"
          ]
        },
        {
          "output_type": "error",
          "ename": "AttributeError",
          "evalue": "'str' object has no attribute 'numpy'",
          "traceback": [
            "\u001b[0;31m---------------------------------------------------------------------------\u001b[0m",
            "\u001b[0;31mAttributeError\u001b[0m                            Traceback (most recent call last)",
            "\u001b[0;32m<ipython-input-100-b37e1c3fc1db>\u001b[0m in \u001b[0;36m<cell line: 0>\u001b[0;34m()\u001b[0m\n\u001b[1;32m      4\u001b[0m \u001b[0;34m\u001b[0m\u001b[0m\n\u001b[1;32m      5\u001b[0m \u001b[0mplt\u001b[0m\u001b[0;34m.\u001b[0m\u001b[0msubplot\u001b[0m\u001b[0;34m(\u001b[0m\u001b[0;36m1\u001b[0m\u001b[0;34m,\u001b[0m \u001b[0;36m2\u001b[0m\u001b[0;34m,\u001b[0m \u001b[0;36m1\u001b[0m\u001b[0;34m)\u001b[0m\u001b[0;34m\u001b[0m\u001b[0;34m\u001b[0m\u001b[0m\n\u001b[0;32m----> 6\u001b[0;31m \u001b[0mimshow\u001b[0m\u001b[0;34m(\u001b[0m\u001b[0;34m'flowers/train/1/image_06734.jpg'\u001b[0m\u001b[0;34m)\u001b[0m\u001b[0;34m\u001b[0m\u001b[0;34m\u001b[0m\u001b[0m\n\u001b[0m\u001b[1;32m      7\u001b[0m \u001b[0;34m\u001b[0m\u001b[0m\n\u001b[1;32m      8\u001b[0m \u001b[0mplt\u001b[0m\u001b[0;34m.\u001b[0m\u001b[0msubplot\u001b[0m\u001b[0;34m(\u001b[0m\u001b[0;36m1\u001b[0m\u001b[0;34m,\u001b[0m \u001b[0;36m2\u001b[0m\u001b[0;34m,\u001b[0m \u001b[0;36m2\u001b[0m\u001b[0;34m)\u001b[0m\u001b[0;34m\u001b[0m\u001b[0;34m\u001b[0m\u001b[0m\n",
            "\u001b[0;32m<ipython-input-98-3ba214a19bba>\u001b[0m in \u001b[0;36mimshow\u001b[0;34m(image, ax, title)\u001b[0m\n\u001b[1;32m      6\u001b[0m     \u001b[0;31m# PyTorch tensors assume the color channel is the first dimension\u001b[0m\u001b[0;34m\u001b[0m\u001b[0;34m\u001b[0m\u001b[0m\n\u001b[1;32m      7\u001b[0m     \u001b[0;31m# but matplotlib assumes is the third dimension\u001b[0m\u001b[0;34m\u001b[0m\u001b[0;34m\u001b[0m\u001b[0m\n\u001b[0;32m----> 8\u001b[0;31m     \u001b[0mimage\u001b[0m \u001b[0;34m=\u001b[0m \u001b[0mimage\u001b[0m\u001b[0;34m.\u001b[0m\u001b[0mnumpy\u001b[0m\u001b[0;34m(\u001b[0m\u001b[0;34m)\u001b[0m\u001b[0;34m.\u001b[0m\u001b[0mtranspose\u001b[0m\u001b[0;34m(\u001b[0m\u001b[0;34m(\u001b[0m\u001b[0;36m1\u001b[0m\u001b[0;34m,\u001b[0m \u001b[0;36m2\u001b[0m\u001b[0;34m,\u001b[0m \u001b[0;36m0\u001b[0m\u001b[0;34m)\u001b[0m\u001b[0;34m)\u001b[0m\u001b[0;34m\u001b[0m\u001b[0;34m\u001b[0m\u001b[0m\n\u001b[0m\u001b[1;32m      9\u001b[0m \u001b[0;34m\u001b[0m\u001b[0m\n\u001b[1;32m     10\u001b[0m     \u001b[0;31m# Undo preprocessing\u001b[0m\u001b[0;34m\u001b[0m\u001b[0;34m\u001b[0m\u001b[0m\n",
            "\u001b[0;31mAttributeError\u001b[0m: 'str' object has no attribute 'numpy'"
          ]
        },
        {
          "output_type": "display_data",
          "data": {
            "text/plain": [
              "<Figure size 2000x500 with 1 Axes>"
            ],
            "image/png": "[encoded data removed]"
          },
          "metadata": {}
        },
        {
          "output_type": "display_data",
          "data": {
            "text/plain": [
              "<Figure size 640x480 with 1 Axes>"
            ],
            "image/png": "[encoded data removed]"
          },
          "metadata": {}
        }
      ],
      "source": [
        "\n",
        "image = process_image('flowers/train/1/image_06734.jpg')\n",
        "\n",
        "plt.figure(figsize = [20, 5])\n",
        "\n",
        "plt.subplot(1, 2, 1)\n",
        "imshow('flowers/train/1/image_06734.jpg')\n",
        "\n",
        "plt.subplot(1, 2, 2)\n",
        "image.imshow()\n"
      ]
    }
  ],
  "metadata": {
    "kernelspec": {
      "display_name": "base",
      "language": "python",
      "name": "python3"
    },
    "language_info": {
      "codemirror_mode": {
        "name": "ipython",
        "version": 3
      },
      "file_extension": ".py",
      "mimetype": "text/x-python",
      "name": "python",
      "nbconvert_exporter": "python",
      "pygments_lexer": "ipython3",
      "version": "3.12.2"
    },
    "colab": {
      "provenance": []
    }
  },
  "nbformat": 4,
  "nbformat_minor": 0
}